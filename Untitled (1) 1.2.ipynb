{
 "cells": [
  {
   "cell_type": "markdown",
   "id": "30c3d866",
   "metadata": {},
   "source": [
    "# Regularization"
   ]
  },
  {
   "cell_type": "code",
   "execution_count": null,
   "id": "c90fc45c",
   "metadata": {},
   "outputs": [],
   "source": [
    "1.Lasso regression (L1)\n",
    "2. Ridge regression (L2)"
   ]
  },
  {
   "cell_type": "code",
   "execution_count": null,
   "id": "9621b9b5",
   "metadata": {},
   "outputs": [],
   "source": [
    "1. Lasso regression (L1)\n",
    "2. Ridge regression (L2)"
   ]
  },
  {
   "cell_type": "code",
   "execution_count": 1,
   "id": "315036be",
   "metadata": {},
   "outputs": [],
   "source": [
    "from sklearn.linear_model import LinearRegression,LogisticRegression\n",
    "from sklearn.linear_model import Ridge,RidgeClassifier,Lasso\n",
    "\n",
    "from sklearn.datasets import load_boston\n",
    "\n",
    "import numpy as np\n",
    "import pandas as pd\n",
    "\n",
    "from sklearn.model_selection import train_test_split , GridSearchCV,RandomizedSearchCV\n",
    "\n",
    "from sklearn.metrics import mean_squared_error"
   ]
  },
  {
   "cell_type": "code",
   "execution_count": null,
   "id": "9ed788d8",
   "metadata": {},
   "outputs": [],
   "source": []
  },
  {
   "cell_type": "code",
   "execution_count": 2,
   "id": "160ad028",
   "metadata": {},
   "outputs": [
    {
     "data": {
      "text/plain": [
       "['DESCR', 'data', 'feature_names', 'filename', 'target']"
      ]
     },
     "execution_count": 2,
     "metadata": {},
     "output_type": "execute_result"
    }
   ],
   "source": [
    "boston = load_boston()\n",
    "dir(boston)"
   ]
  },
  {
   "cell_type": "code",
   "execution_count": 3,
   "id": "8bcd98cb",
   "metadata": {},
   "outputs": [
    {
     "data": {
      "text/html": [
       "<div>\n",
       "<style scoped>\n",
       "    .dataframe tbody tr th:only-of-type {\n",
       "        vertical-align: middle;\n",
       "    }\n",
       "\n",
       "    .dataframe tbody tr th {\n",
       "        vertical-align: top;\n",
       "    }\n",
       "\n",
       "    .dataframe thead th {\n",
       "        text-align: right;\n",
       "    }\n",
       "</style>\n",
       "<table border=\"1\" class=\"dataframe\">\n",
       "  <thead>\n",
       "    <tr style=\"text-align: right;\">\n",
       "      <th></th>\n",
       "      <th>CRIM</th>\n",
       "      <th>ZN</th>\n",
       "      <th>INDUS</th>\n",
       "      <th>CHAS</th>\n",
       "      <th>NOX</th>\n",
       "      <th>RM</th>\n",
       "      <th>AGE</th>\n",
       "      <th>DIS</th>\n",
       "      <th>RAD</th>\n",
       "      <th>TAX</th>\n",
       "      <th>PTRATIO</th>\n",
       "      <th>B</th>\n",
       "      <th>LSTAT</th>\n",
       "      <th>Target</th>\n",
       "    </tr>\n",
       "  </thead>\n",
       "  <tbody>\n",
       "    <tr>\n",
       "      <th>0</th>\n",
       "      <td>0.00632</td>\n",
       "      <td>18.0</td>\n",
       "      <td>2.31</td>\n",
       "      <td>0.0</td>\n",
       "      <td>0.538</td>\n",
       "      <td>6.575</td>\n",
       "      <td>65.2</td>\n",
       "      <td>4.0900</td>\n",
       "      <td>1.0</td>\n",
       "      <td>296.0</td>\n",
       "      <td>15.3</td>\n",
       "      <td>396.90</td>\n",
       "      <td>4.98</td>\n",
       "      <td>24.0</td>\n",
       "    </tr>\n",
       "    <tr>\n",
       "      <th>1</th>\n",
       "      <td>0.02731</td>\n",
       "      <td>0.0</td>\n",
       "      <td>7.07</td>\n",
       "      <td>0.0</td>\n",
       "      <td>0.469</td>\n",
       "      <td>6.421</td>\n",
       "      <td>78.9</td>\n",
       "      <td>4.9671</td>\n",
       "      <td>2.0</td>\n",
       "      <td>242.0</td>\n",
       "      <td>17.8</td>\n",
       "      <td>396.90</td>\n",
       "      <td>9.14</td>\n",
       "      <td>21.6</td>\n",
       "    </tr>\n",
       "    <tr>\n",
       "      <th>2</th>\n",
       "      <td>0.02729</td>\n",
       "      <td>0.0</td>\n",
       "      <td>7.07</td>\n",
       "      <td>0.0</td>\n",
       "      <td>0.469</td>\n",
       "      <td>7.185</td>\n",
       "      <td>61.1</td>\n",
       "      <td>4.9671</td>\n",
       "      <td>2.0</td>\n",
       "      <td>242.0</td>\n",
       "      <td>17.8</td>\n",
       "      <td>392.83</td>\n",
       "      <td>4.03</td>\n",
       "      <td>34.7</td>\n",
       "    </tr>\n",
       "    <tr>\n",
       "      <th>3</th>\n",
       "      <td>0.03237</td>\n",
       "      <td>0.0</td>\n",
       "      <td>2.18</td>\n",
       "      <td>0.0</td>\n",
       "      <td>0.458</td>\n",
       "      <td>6.998</td>\n",
       "      <td>45.8</td>\n",
       "      <td>6.0622</td>\n",
       "      <td>3.0</td>\n",
       "      <td>222.0</td>\n",
       "      <td>18.7</td>\n",
       "      <td>394.63</td>\n",
       "      <td>2.94</td>\n",
       "      <td>33.4</td>\n",
       "    </tr>\n",
       "    <tr>\n",
       "      <th>4</th>\n",
       "      <td>0.06905</td>\n",
       "      <td>0.0</td>\n",
       "      <td>2.18</td>\n",
       "      <td>0.0</td>\n",
       "      <td>0.458</td>\n",
       "      <td>7.147</td>\n",
       "      <td>54.2</td>\n",
       "      <td>6.0622</td>\n",
       "      <td>3.0</td>\n",
       "      <td>222.0</td>\n",
       "      <td>18.7</td>\n",
       "      <td>396.90</td>\n",
       "      <td>5.33</td>\n",
       "      <td>36.2</td>\n",
       "    </tr>\n",
       "    <tr>\n",
       "      <th>...</th>\n",
       "      <td>...</td>\n",
       "      <td>...</td>\n",
       "      <td>...</td>\n",
       "      <td>...</td>\n",
       "      <td>...</td>\n",
       "      <td>...</td>\n",
       "      <td>...</td>\n",
       "      <td>...</td>\n",
       "      <td>...</td>\n",
       "      <td>...</td>\n",
       "      <td>...</td>\n",
       "      <td>...</td>\n",
       "      <td>...</td>\n",
       "      <td>...</td>\n",
       "    </tr>\n",
       "    <tr>\n",
       "      <th>501</th>\n",
       "      <td>0.06263</td>\n",
       "      <td>0.0</td>\n",
       "      <td>11.93</td>\n",
       "      <td>0.0</td>\n",
       "      <td>0.573</td>\n",
       "      <td>6.593</td>\n",
       "      <td>69.1</td>\n",
       "      <td>2.4786</td>\n",
       "      <td>1.0</td>\n",
       "      <td>273.0</td>\n",
       "      <td>21.0</td>\n",
       "      <td>391.99</td>\n",
       "      <td>9.67</td>\n",
       "      <td>22.4</td>\n",
       "    </tr>\n",
       "    <tr>\n",
       "      <th>502</th>\n",
       "      <td>0.04527</td>\n",
       "      <td>0.0</td>\n",
       "      <td>11.93</td>\n",
       "      <td>0.0</td>\n",
       "      <td>0.573</td>\n",
       "      <td>6.120</td>\n",
       "      <td>76.7</td>\n",
       "      <td>2.2875</td>\n",
       "      <td>1.0</td>\n",
       "      <td>273.0</td>\n",
       "      <td>21.0</td>\n",
       "      <td>396.90</td>\n",
       "      <td>9.08</td>\n",
       "      <td>20.6</td>\n",
       "    </tr>\n",
       "    <tr>\n",
       "      <th>503</th>\n",
       "      <td>0.06076</td>\n",
       "      <td>0.0</td>\n",
       "      <td>11.93</td>\n",
       "      <td>0.0</td>\n",
       "      <td>0.573</td>\n",
       "      <td>6.976</td>\n",
       "      <td>91.0</td>\n",
       "      <td>2.1675</td>\n",
       "      <td>1.0</td>\n",
       "      <td>273.0</td>\n",
       "      <td>21.0</td>\n",
       "      <td>396.90</td>\n",
       "      <td>5.64</td>\n",
       "      <td>23.9</td>\n",
       "    </tr>\n",
       "    <tr>\n",
       "      <th>504</th>\n",
       "      <td>0.10959</td>\n",
       "      <td>0.0</td>\n",
       "      <td>11.93</td>\n",
       "      <td>0.0</td>\n",
       "      <td>0.573</td>\n",
       "      <td>6.794</td>\n",
       "      <td>89.3</td>\n",
       "      <td>2.3889</td>\n",
       "      <td>1.0</td>\n",
       "      <td>273.0</td>\n",
       "      <td>21.0</td>\n",
       "      <td>393.45</td>\n",
       "      <td>6.48</td>\n",
       "      <td>22.0</td>\n",
       "    </tr>\n",
       "    <tr>\n",
       "      <th>505</th>\n",
       "      <td>0.04741</td>\n",
       "      <td>0.0</td>\n",
       "      <td>11.93</td>\n",
       "      <td>0.0</td>\n",
       "      <td>0.573</td>\n",
       "      <td>6.030</td>\n",
       "      <td>80.8</td>\n",
       "      <td>2.5050</td>\n",
       "      <td>1.0</td>\n",
       "      <td>273.0</td>\n",
       "      <td>21.0</td>\n",
       "      <td>396.90</td>\n",
       "      <td>7.88</td>\n",
       "      <td>11.9</td>\n",
       "    </tr>\n",
       "  </tbody>\n",
       "</table>\n",
       "<p>506 rows × 14 columns</p>\n",
       "</div>"
      ],
      "text/plain": [
       "        CRIM    ZN  INDUS  CHAS    NOX     RM   AGE     DIS  RAD    TAX  \\\n",
       "0    0.00632  18.0   2.31   0.0  0.538  6.575  65.2  4.0900  1.0  296.0   \n",
       "1    0.02731   0.0   7.07   0.0  0.469  6.421  78.9  4.9671  2.0  242.0   \n",
       "2    0.02729   0.0   7.07   0.0  0.469  7.185  61.1  4.9671  2.0  242.0   \n",
       "3    0.03237   0.0   2.18   0.0  0.458  6.998  45.8  6.0622  3.0  222.0   \n",
       "4    0.06905   0.0   2.18   0.0  0.458  7.147  54.2  6.0622  3.0  222.0   \n",
       "..       ...   ...    ...   ...    ...    ...   ...     ...  ...    ...   \n",
       "501  0.06263   0.0  11.93   0.0  0.573  6.593  69.1  2.4786  1.0  273.0   \n",
       "502  0.04527   0.0  11.93   0.0  0.573  6.120  76.7  2.2875  1.0  273.0   \n",
       "503  0.06076   0.0  11.93   0.0  0.573  6.976  91.0  2.1675  1.0  273.0   \n",
       "504  0.10959   0.0  11.93   0.0  0.573  6.794  89.3  2.3889  1.0  273.0   \n",
       "505  0.04741   0.0  11.93   0.0  0.573  6.030  80.8  2.5050  1.0  273.0   \n",
       "\n",
       "     PTRATIO       B  LSTAT  Target  \n",
       "0       15.3  396.90   4.98    24.0  \n",
       "1       17.8  396.90   9.14    21.6  \n",
       "2       17.8  392.83   4.03    34.7  \n",
       "3       18.7  394.63   2.94    33.4  \n",
       "4       18.7  396.90   5.33    36.2  \n",
       "..       ...     ...    ...     ...  \n",
       "501     21.0  391.99   9.67    22.4  \n",
       "502     21.0  396.90   9.08    20.6  \n",
       "503     21.0  396.90   5.64    23.9  \n",
       "504     21.0  393.45   6.48    22.0  \n",
       "505     21.0  396.90   7.88    11.9  \n",
       "\n",
       "[506 rows x 14 columns]"
      ]
     },
     "execution_count": 3,
     "metadata": {},
     "output_type": "execute_result"
    }
   ],
   "source": [
    "df = pd.DataFrame(boston.data, columns = boston.feature_names)\n",
    "df[\"Target\"] = boston.target\n",
    "df"
   ]
  },
  {
   "cell_type": "code",
   "execution_count": 16,
   "id": "10ee6294",
   "metadata": {},
   "outputs": [],
   "source": [
    "x = df.drop(\"Target\",axis =1)\n",
    "y = df[\"Target\"]\n",
    "\n",
    "x_train,x_test,y_train,y_test = train_test_split(x,y,test_size=0.20,random_state=1)"
   ]
  },
  {
   "cell_type": "markdown",
   "id": "eb2c7bcf",
   "metadata": {},
   "source": [
    "# 1.Linear regression"
   ]
  },
  {
   "cell_type": "code",
   "execution_count": 17,
   "id": "c9e879b7",
   "metadata": {},
   "outputs": [
    {
     "name": "stdout",
     "output_type": "stream",
     "text": [
      "Testing Data MSE: 23.38083648027037\n"
     ]
    }
   ],
   "source": [
    "#Test Data Accuracy\n",
    "lr_model = LinearRegression()\n",
    "lr_model.fit(x_train,y_train)\n",
    "y_pred = lr_model.predict(x_test)\n",
    "mse = mean_squared_error(y_test,y_pred)\n",
    "print(\"Testing Data MSE:\",mse)"
   ]
  },
  {
   "cell_type": "code",
   "execution_count": 18,
   "id": "11598f34",
   "metadata": {},
   "outputs": [
    {
     "name": "stdout",
     "output_type": "stream",
     "text": [
      "Testing Data MSE: 21.86279471487961\n"
     ]
    }
   ],
   "source": [
    "#Training Data Accuracy\n",
    "\n",
    "y_pred_train = lr_model.predict(x_train)\n",
    "mse = mean_squared_error(y_train,y_pred_train)\n",
    "print(\"Testing Data MSE:\",mse)"
   ]
  },
  {
   "cell_type": "markdown",
   "id": "0761772c",
   "metadata": {},
   "source": [
    "# 2.Ridge Regesssion"
   ]
  },
  {
   "cell_type": "code",
   "execution_count": 19,
   "id": "0348888a",
   "metadata": {},
   "outputs": [
    {
     "name": "stdout",
     "output_type": "stream",
     "text": [
      "Testing Data MSE: 23.161670729679596\n"
     ]
    }
   ],
   "source": [
    "#Test data Accuracy\n",
    "ridge_model = Ridge(alpha=0.8)\n",
    "ridge_model.fit(x_train,y_train)\n",
    "y_pred = ridge_model.predict(x_test)\n",
    "mse = mean_squared_error(y_test,y_pred)\n",
    "print(\"Testing Data MSE:\",mse)"
   ]
  },
  {
   "cell_type": "code",
   "execution_count": 20,
   "id": "be3f54cc",
   "metadata": {},
   "outputs": [
    {
     "name": "stdout",
     "output_type": "stream",
     "text": [
      "Testing Data MSE: 22.04461046102903\n"
     ]
    }
   ],
   "source": [
    "#Training Data Accuracy\n",
    "\n",
    "y_pred_train = ridge_model.predict(x_train)\n",
    "mse = mean_squared_error(y_train,y_pred_train)\n",
    "print(\"Testing Data MSE:\",mse)"
   ]
  },
  {
   "cell_type": "markdown",
   "id": "e003f63f",
   "metadata": {},
   "source": [
    "# 3.Lasso Regression"
   ]
  },
  {
   "cell_type": "code",
   "execution_count": 32,
   "id": "1701fd03",
   "metadata": {},
   "outputs": [
    {
     "name": "stdout",
     "output_type": "stream",
     "text": [
      "Testing Data MSE: 24.716497244112258\n"
     ]
    }
   ],
   "source": [
    "#Test data Accuracy\n",
    "lasso_model = Lasso(alpha=0.1)  # Hyperparameter of Lasso Regession\n",
    "lasso_model.fit(x_train,y_train)\n",
    "y_pred = lasso_model.predict(x_test)\n",
    "mse = mean_squared_error(y_test,y_pred)\n",
    "print(\"Testing Data MSE:\",mse)"
   ]
  },
  {
   "cell_type": "code",
   "execution_count": 22,
   "id": "c5effa35",
   "metadata": {},
   "outputs": [
    {
     "name": "stdout",
     "output_type": "stream",
     "text": [
      "Testing Data MSE: 25.665442431896597\n"
     ]
    }
   ],
   "source": [
    "#Training Data Accuracy\n",
    "\n",
    "y_pred_train = lasso_model.predict(x_train)\n",
    "mse = mean_squared_error(y_train,y_pred_train)\n",
    "print(\"Testing Data MSE:\",mse)"
   ]
  },
  {
   "cell_type": "code",
   "execution_count": 29,
   "id": "9bce5eaa",
   "metadata": {},
   "outputs": [
    {
     "data": {
      "text/plain": [
       "array([1.0e-02, 2.0e-02, 3.0e-02, 4.0e-02, 5.0e-02, 6.0e-02, 7.0e-02,\n",
       "       8.0e-02, 9.0e-02, 1.0e-01, 1.1e-01, 1.2e-01, 1.3e-01, 1.4e-01,\n",
       "       1.5e-01, 1.6e-01, 1.7e-01, 1.8e-01, 1.9e-01, 2.0e-01, 2.1e-01,\n",
       "       2.2e-01, 2.3e-01, 2.4e-01, 2.5e-01, 2.6e-01, 2.7e-01, 2.8e-01,\n",
       "       2.9e-01, 3.0e-01, 3.1e-01, 3.2e-01, 3.3e-01, 3.4e-01, 3.5e-01,\n",
       "       3.6e-01, 3.7e-01, 3.8e-01, 3.9e-01, 4.0e-01, 4.1e-01, 4.2e-01,\n",
       "       4.3e-01, 4.4e-01, 4.5e-01, 4.6e-01, 4.7e-01, 4.8e-01, 4.9e-01,\n",
       "       5.0e-01, 5.1e-01, 5.2e-01, 5.3e-01, 5.4e-01, 5.5e-01, 5.6e-01,\n",
       "       5.7e-01, 5.8e-01, 5.9e-01, 6.0e-01, 6.1e-01, 6.2e-01, 6.3e-01,\n",
       "       6.4e-01, 6.5e-01, 6.6e-01, 6.7e-01, 6.8e-01, 6.9e-01, 7.0e-01,\n",
       "       7.1e-01, 7.2e-01, 7.3e-01, 7.4e-01, 7.5e-01, 7.6e-01, 7.7e-01,\n",
       "       7.8e-01, 7.9e-01, 8.0e-01, 8.1e-01, 8.2e-01, 8.3e-01, 8.4e-01,\n",
       "       8.5e-01, 8.6e-01, 8.7e-01, 8.8e-01, 8.9e-01, 9.0e-01, 9.1e-01,\n",
       "       9.2e-01, 9.3e-01, 9.4e-01, 9.5e-01, 9.6e-01, 9.7e-01, 9.8e-01,\n",
       "       9.9e-01, 1.0e+00, 2.0e+00, 3.0e+00, 4.0e+00, 5.0e+00, 6.0e+00,\n",
       "       7.0e+00, 8.0e+00, 9.0e+00, 1.0e+01, 1.1e+01, 1.2e+01, 1.3e+01,\n",
       "       1.4e+01, 1.5e+01, 1.6e+01, 1.7e+01, 1.8e+01, 1.9e+01, 2.0e+01,\n",
       "       2.1e+01, 2.2e+01, 2.3e+01, 2.4e+01, 2.5e+01, 2.6e+01, 2.7e+01,\n",
       "       2.8e+01, 2.9e+01, 3.0e+01, 3.1e+01, 3.2e+01, 3.3e+01, 3.4e+01,\n",
       "       3.5e+01, 3.6e+01, 3.7e+01, 3.8e+01, 3.9e+01, 4.0e+01, 4.1e+01,\n",
       "       4.2e+01, 4.3e+01, 4.4e+01, 4.5e+01, 4.6e+01, 4.7e+01, 4.8e+01,\n",
       "       4.9e+01])"
      ]
     },
     "execution_count": 29,
     "metadata": {},
     "output_type": "execute_result"
    }
   ],
   "source": [
    "a1 = np.arange(0.01,1,0.01)\n",
    "a2 = np.arange(1,50)\n",
    "alpha_array = np.append(a1,a2)\n",
    "alpha_array"
   ]
  },
  {
   "cell_type": "markdown",
   "id": "bea70c86",
   "metadata": {},
   "source": [
    "# Hyperparameter Tuning"
   ]
  },
  {
   "cell_type": "code",
   "execution_count": null,
   "id": "0d8e0219",
   "metadata": {},
   "outputs": [],
   "source": [
    "To find best parameters for machine learning models\n",
    "1.GridSearchCV\n",
    "2.RandomizedSearchCV"
   ]
  },
  {
   "cell_type": "code",
   "execution_count": 30,
   "id": "9231b2cd",
   "metadata": {},
   "outputs": [
    {
     "data": {
      "text/plain": [
       "GridSearchCV(cv=5, estimator=Lasso(),\n",
       "             param_grid={'alpha': array([1.0e-02, 2.0e-02, 3.0e-02, 4.0e-02, 5.0e-02, 6.0e-02, 7.0e-02,\n",
       "       8.0e-02, 9.0e-02, 1.0e-01, 1.1e-01, 1.2e-01, 1.3e-01, 1.4e-01,\n",
       "       1.5e-01, 1.6e-01, 1.7e-01, 1.8e-01, 1.9e-01, 2.0e-01, 2.1e-01,\n",
       "       2.2e-01, 2.3e-01, 2.4e-01, 2.5e-01, 2.6e-01, 2.7e-01, 2.8e-01,\n",
       "       2.9e-01, 3.0e-01, 3.1e-01, 3.2e-01, 3.3e-01, 3.4e-01, 3.5e-01,\n",
       "       3.6e-01...\n",
       "       9.9e-01, 1.0e+00, 2.0e+00, 3.0e+00, 4.0e+00, 5.0e+00, 6.0e+00,\n",
       "       7.0e+00, 8.0e+00, 9.0e+00, 1.0e+01, 1.1e+01, 1.2e+01, 1.3e+01,\n",
       "       1.4e+01, 1.5e+01, 1.6e+01, 1.7e+01, 1.8e+01, 1.9e+01, 2.0e+01,\n",
       "       2.1e+01, 2.2e+01, 2.3e+01, 2.4e+01, 2.5e+01, 2.6e+01, 2.7e+01,\n",
       "       2.8e+01, 2.9e+01, 3.0e+01, 3.1e+01, 3.2e+01, 3.3e+01, 3.4e+01,\n",
       "       3.5e+01, 3.6e+01, 3.7e+01, 3.8e+01, 3.9e+01, 4.0e+01, 4.1e+01,\n",
       "       4.2e+01, 4.3e+01, 4.4e+01, 4.5e+01, 4.6e+01, 4.7e+01, 4.8e+01,\n",
       "       4.9e+01])})"
      ]
     },
     "execution_count": 30,
     "metadata": {},
     "output_type": "execute_result"
    }
   ],
   "source": [
    "lasso_model = Lasso()\n",
    "param_grid = {\"alpha\":alpha_array}\n",
    "gscv_lasso_model = GridSearchCV(lasso_model,param_grid,cv = 5)\n",
    "gscv_lasso_model.fit(x_train,y_train)\n"
   ]
  },
  {
   "cell_type": "code",
   "execution_count": 31,
   "id": "e21d1155",
   "metadata": {},
   "outputs": [
    {
     "data": {
      "text/plain": [
       "Lasso(alpha=0.01)"
      ]
     },
     "execution_count": 31,
     "metadata": {},
     "output_type": "execute_result"
    }
   ],
   "source": [
    "gscv_lasso_model.best_estimator_"
   ]
  },
  {
   "cell_type": "code",
   "execution_count": 33,
   "id": "f575954f",
   "metadata": {},
   "outputs": [
    {
     "data": {
      "text/plain": [
       "Ridge(alpha=0.04)"
      ]
     },
     "execution_count": 33,
     "metadata": {},
     "output_type": "execute_result"
    }
   ],
   "source": [
    "ridge_model = Ridge()\n",
    "param_grid = {\"alpha\":alpha_array}\n",
    "gscv_ridge_model = GridSearchCV(ridge_model,param_grid,cv = 5)\n",
    "gscv_ridge_model.fit(x_train,y_train)\n",
    "gscv_ridge_model.best_estimator_"
   ]
  },
  {
   "cell_type": "code",
   "execution_count": null,
   "id": "f52060ef",
   "metadata": {},
   "outputs": [],
   "source": [
    "a1 = [1,2,3,4,5,6,7,8]  >> 8\n",
    "a2= [10,20,30,40,50,60] >> 6\n",
    "\n",
    "All best possible combination >> 48"
   ]
  },
  {
   "cell_type": "code",
   "execution_count": null,
   "id": "9d0a4905",
   "metadata": {},
   "outputs": [],
   "source": [
    "pip install flask\n",
    "conda install flask"
   ]
  }
 ],
 "metadata": {
  "kernelspec": {
   "display_name": "Python 3 (ipykernel)",
   "language": "python",
   "name": "python3"
  },
  "language_info": {
   "codemirror_mode": {
    "name": "ipython",
    "version": 3
   },
   "file_extension": ".py",
   "mimetype": "text/x-python",
   "name": "python",
   "nbconvert_exporter": "python",
   "pygments_lexer": "ipython3",
   "version": "3.9.12"
  }
 },
 "nbformat": 4,
 "nbformat_minor": 5
}
