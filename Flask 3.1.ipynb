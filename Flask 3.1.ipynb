{
 "cells": [
  {
   "cell_type": "markdown",
   "id": "efdb31d6",
   "metadata": {},
   "source": [
    "# Data Science Project Steps"
   ]
  },
  {
   "cell_type": "code",
   "execution_count": null,
   "id": "d9ca32f2",
   "metadata": {},
   "outputs": [],
   "source": [
    "1. Problem Statement\n",
    "2. Data Gathering\n",
    "3. EDA\n",
    "4. Feature Engineering\n",
    "5. Feature Selection\n",
    "6. Model Training\n",
    "7. Evaluation\n",
    "8. Create API\n",
    "9. Deployment"
   ]
  },
  {
   "cell_type": "code",
   "execution_count": null,
   "id": "aa678314",
   "metadata": {},
   "outputs": [],
   "source": [
    "Desing"
   ]
  },
  {
   "cell_type": "code",
   "execution_count": null,
   "id": "8bee4c0d",
   "metadata": {},
   "outputs": [],
   "source": [
    "1.UX Designer\n",
    "2.UI Designer / Fll stack developer >> HTML, CSS, JS\n",
    "3. python Developer / Data Scientist / Backend Developers\n",
    "\n",
    "\n",
    "UI >> User Interface\n",
    "API >> Application Programming Interface"
   ]
  },
  {
   "cell_type": "markdown",
   "id": "0a2df9a1",
   "metadata": {},
   "source": [
    "# Web Frameworks"
   ]
  },
  {
   "cell_type": "code",
   "execution_count": null,
   "id": "64798ee6",
   "metadata": {},
   "outputs": [],
   "source": [
    "1.Flask\n",
    "2.DJango\n",
    "3.gRPC\n",
    "4.FastAPI"
   ]
  },
  {
   "cell_type": "markdown",
   "id": "48a1b7b6",
   "metadata": {},
   "source": [
    "# Flask"
   ]
  },
  {
   "cell_type": "code",
   "execution_count": null,
   "id": "05a99f46",
   "metadata": {},
   "outputs": [],
   "source": [
    "Python Web Framework\n",
    "WSGI and Jinja 2 template\n",
    "\n",
    "WSGI >> Web Server Gateway Interface\n",
    "\n",
    "\n",
    "Use : used to create web aplication using python programming language"
   ]
  },
  {
   "cell_type": "code",
   "execution_count": null,
   "id": "9e01bfd1",
   "metadata": {},
   "outputs": [],
   "source": [
    "pip install flask\n",
    "conda install flask"
   ]
  },
  {
   "cell_type": "code",
   "execution_count": null,
   "id": "2363cf05",
   "metadata": {},
   "outputs": [],
   "source": [
    "http://127.0.0.1:5000/\n",
    "        \n",
    "127.0.0.1\n",
    "0.0.0.0\n",
    "localhost\n",
    "\n",
    "PORT number >> 5000\n",
    "        \n",
    "http >> Hyper text Transfer Protocol \n",
    "https >> Hyper text Transfer Protocol secure\n",
    "\n",
    "SLL certificate >> Secure Socket Layer\n",
    "http://127.0.0.1:5000/\n",
    "http://localhost:8888/notebooks/\n",
    "https://gadgets360.com/\n",
    "123.45.167:5005 >> https://www.facebook.com/\n",
    "        "
   ]
  },
  {
   "cell_type": "code",
   "execution_count": null,
   "id": "6d38347b",
   "metadata": {},
   "outputs": [],
   "source": [
    "1. write API:\n",
    "    function\n",
    "    return \n",
    "2. app.run()\n",
    "\n",
    "3.CMD >> current dir (folder)\n",
    "\n",
    "4.python file_name (interface.py)\n",
    "\n",
    "5. URL (http://127.0.0.1:5000/addition)\n",
    "\n",
    "6. paste this on broswer / postman \n",
    "\n"
   ]
  },
  {
   "cell_type": "code",
   "execution_count": 2,
   "id": "5550d80e",
   "metadata": {},
   "outputs": [
    {
     "data": {
      "text/plain": [
       "{'a': '70', 'b': '60'}"
      ]
     },
     "execution_count": 2,
     "metadata": {},
     "output_type": "execute_result"
    }
   ],
   "source": [
    "dict([('a', '70'), ('b', '60')])"
   ]
  },
  {
   "cell_type": "code",
   "execution_count": 3,
   "id": "83e7bf71",
   "metadata": {},
   "outputs": [
    {
     "data": {
      "text/plain": [
       "'40'"
      ]
     },
     "execution_count": 3,
     "metadata": {},
     "output_type": "execute_result"
    }
   ],
   "source": [
    "dict1 = {'a': '40', 'b': '50'}\n",
    "\n",
    "dict1[\"a\"]\n",
    "\n",
    "#dict[\"key\"] = value"
   ]
  },
  {
   "cell_type": "code",
   "execution_count": null,
   "id": "17d40242",
   "metadata": {},
   "outputs": [],
   "source": [
    "postman >> body >> form-data"
   ]
  },
  {
   "cell_type": "code",
   "execution_count": null,
   "id": "2c26893d",
   "metadata": {},
   "outputs": [],
   "source": [
    "project1 >> 123.45.6.167:5001/login\n",
    "project2 >> 123.45.6.167:5002/login\n",
    "project3 >> 123.45.6.167:5003/login"
   ]
  }
 ],
 "metadata": {
  "kernelspec": {
   "display_name": "Python 3",
   "language": "python",
   "name": "python3"
  },
  "language_info": {
   "codemirror_mode": {
    "name": "ipython",
    "version": 3
   },
   "file_extension": ".py",
   "mimetype": "text/x-python",
   "name": "python",
   "nbconvert_exporter": "python",
   "pygments_lexer": "ipython3",
   "version": "3.8.8"
  }
 },
 "nbformat": 4,
 "nbformat_minor": 5
}
